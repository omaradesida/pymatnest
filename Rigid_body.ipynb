{
 "cells": [
  {
   "cell_type": "code",
   "execution_count": 59,
   "id": "reserved-movie",
   "metadata": {},
   "outputs": [],
   "source": [
    "import ase\n",
    "import numpy as np\n",
    "import ase.build\n",
    "from ase.visualize import view\n",
    "import ase.data.pubchem\n",
    "from lammpslib import LAMMPSlib\n",
    "import matplotlib.pyplot as plt\n",
    "import sys"
   ]
  },
  {
   "cell_type": "code",
   "execution_count": 135,
   "id": "configured-expansion",
   "metadata": {},
   "outputs": [],
   "source": [
    "at = ase.io.read(\"benzene_test/no_skew_benzene_MD.snapshot.all.extxyz\")\n",
    "at=at[:12]\n",
    "\n",
    "#at.wrap()\n"
   ]
  },
  {
   "cell_type": "code",
   "execution_count": 136,
   "id": "decent-average",
   "metadata": {},
   "outputs": [],
   "source": [
    "#view(at)"
   ]
  },
  {
   "cell_type": "code",
   "execution_count": 137,
   "id": "reserved-strengthening",
   "metadata": {},
   "outputs": [],
   "source": [
    "#wrap molecules such that they do cross boundaries\n",
    "molsize=6\n",
    "nmols = len(at)//molsize\n",
    "new_pos=[]\n",
    "for imol in range(nmols):\n",
    "    mol=at[imol*molsize:imol*molsize+molsize]\n",
    "    new_pos.append(mol.get_distances(0,range(len(mol)),True,True)+mol[0].position)\n",
    "    #at[imol*molsize:imol*molsize+molsize].set_positions(new_pos)\n",
    "new_pos =np.array(new_pos)\n",
    "new_pos = np.reshape(new_pos,[-1,3])\n",
    "at.set_positions(new_pos)"
   ]
  },
  {
   "cell_type": "code",
   "execution_count": null,
   "id": "frozen-shooting",
   "metadata": {},
   "outputs": [],
   "source": []
  },
  {
   "cell_type": "code",
   "execution_count": 138,
   "id": "serious-ensemble",
   "metadata": {
    "code_folding": [
     0
    ]
   },
   "outputs": [],
   "source": [
    "def get_mic(pos,at):\n",
    "    return pos - np.floor(pos @ np.linalg.inv(at.cell)) @ at.cell"
   ]
  },
  {
   "cell_type": "code",
   "execution_count": 139,
   "id": "practical-packaging",
   "metadata": {},
   "outputs": [
    {
     "data": {
      "text/plain": [
       "array([27.57707268,  3.        ,  1.        ])"
      ]
     },
     "execution_count": 139,
     "metadata": {},
     "output_type": "execute_result"
    }
   ],
   "source": [
    "get_mic((104,3,1),at)"
   ]
  },
  {
   "cell_type": "code",
   "execution_count": 140,
   "id": "respected-threshold",
   "metadata": {
    "code_folding": [
     0
    ]
   },
   "outputs": [],
   "source": [
    "def get_com_mic(at):\n",
    "    \"\"\"Obtain centre of mass of a molecule, accounting for PBCs.\n",
    "    returns: centre of mass\"\"\"\n",
    "    dists = at.get_distances(0,range(len(at)),True,True)\n",
    "    masses = at.get_masses()\n",
    "    com = (masses @ dists / masses.sum())+at.positions[0]\n",
    "    return get_mic(com,at) #com reflected back into the cell\n",
    "    \n",
    "    "
   ]
  },
  {
   "cell_type": "code",
   "execution_count": 141,
   "id": "compliant-scout",
   "metadata": {
    "code_folding": [
     0
    ]
   },
   "outputs": [],
   "source": [
    "def unwrap_pos(at, mol_size=1):\n",
    "    \"Unwrap molecular coordinates such that molecules straddling pbcs are calculated correctly.\"\n",
    "    \"Still assuming a single species system\"\n",
    "    mols = len(at)//mol_size\n",
    "    for i in range(mols):\n",
    "        dists = at.get_distances(i*mol_size,range(i*mol_size,i*mol_size+mol_size),True,True)\n",
    "        at.positions[i*mol_size:i*mol_size+mol_size] = dists+at.positions[i*mol_size]\n",
    "    "
   ]
  },
  {
   "cell_type": "code",
   "execution_count": 142,
   "id": "functional-nursery",
   "metadata": {
    "code_folding": []
   },
   "outputs": [],
   "source": [
    "def get_moments_of_inertia_mic(at, vectors=False):\n",
    "    \"\"\"Get the moments of inertia along the principal axes.\n",
    "\n",
    "    The three principal moments of inertia are computed from the\n",
    "    eigenvalues of the symmetric inertial tensor. Periodic boundary\n",
    "    conditions are NOT ignored.\n",
    "    \"\"\"\n",
    "    \n",
    "    at.positions = at.get_distances(0,range(len(at)),True,True)+at[0].position\n",
    "    com = at.get_center_of_mass()\n",
    "    positions = at.get_positions().copy()\n",
    "    positions -= com  # translate center of mass to origin\n",
    "    masses = at.get_masses()\n",
    "\n",
    "    # Initialize elements of the inertial tensor\n",
    "    I11 = I22 = I33 = I12 = I13 = I23 = 0.0\n",
    "    for i in range(len(at)):\n",
    "        x, y, z = positions[i]\n",
    "        m = masses[i]\n",
    "\n",
    "        I11 += m * (y ** 2 + z ** 2)\n",
    "        I22 += m * (x ** 2 + z ** 2)\n",
    "        I33 += m * (x ** 2 + y ** 2)\n",
    "        I12 += -m * x * y\n",
    "        I13 += -m * x * z\n",
    "        I23 += -m * y * z\n",
    "\n",
    "    Itensor = np.array([[I11, I12, I13],\n",
    "                        [I12, I22, I23],\n",
    "                        [I13, I23, I33]])\n",
    "    \n",
    "\n",
    "    evals, evecs = np.linalg.eigh(Itensor)\n",
    "    if vectors:\n",
    "        return evals, evecs.transpose()\n",
    "    else:\n",
    "        return evals"
   ]
  },
  {
   "cell_type": "code",
   "execution_count": 143,
   "id": "metallic-profit",
   "metadata": {},
   "outputs": [],
   "source": [
    "#evals,evecs = get_moments_of_inertia_mic(at,True)"
   ]
  },
  {
   "cell_type": "code",
   "execution_count": 144,
   "id": "million-immunology",
   "metadata": {
    "code_folding": []
   },
   "outputs": [],
   "source": [
    "def map_velocities(disps, velo):\n",
    "    velos=np.zeros_like(disps)\n",
    "    for i in range(len(velo[0])):\n",
    "        \n",
    "        disps_del = np.delete(disps,i,axis=1)\n",
    "        print(velo[0,i])\n",
    "        velos[:,i] = np.linalg.norm(disps_del,axis=1)*velo[0,i]\n",
    "        \n",
    "    return velos"
   ]
  },
  {
   "cell_type": "code",
   "execution_count": 198,
   "id": "thermal-model",
   "metadata": {
    "code_folding": []
   },
   "outputs": [],
   "source": [
    "def gen_random_velo_mole(at,KEmax,mol_size):#note need to remove rot velocity weights for molsize 1\n",
    "    #note change rng when implementing\n",
    "    nmols = len(at)//mol_size\n",
    "    nDOF=6\n",
    "    unit_rv = np.random.normal(0.0,1.0, (2*nmols, 3)) #avoid rng generation twice \n",
    "    unit_rv /= np.linalg.norm(unit_rv)\n",
    "    rv_mag = np.random.uniform()**(1.0/(nDOF*nmols))\n",
    "    rv_mag = 1.0\n",
    "    at_velocities=np.zeros([len(at),3])\n",
    "    for i in range(nmols):\n",
    "        mass = at[i*mol_size:i*mol_size+mol_size].get_masses().sum()\n",
    "        trans_velocity = rv_mag * np.sqrt(2.0/np.array([mass,]*3).transpose()) * np.sqrt(KEmax) * unit_rv[i]\n",
    "        I,evecs = get_moments_of_inertia_mic(at[i*mol_size:i*mol_size+mol_size],True)\n",
    "        \n",
    "        print(0.5*np.sum(mass*trans_velocity**2))\n",
    "        \n",
    "        rot_velocity  = rv_mag * np.sqrt(2.0/I.T) * np.sqrt(KEmax) * unit_rv[i+nmols]\n",
    "        print(np.sum(I*rot_velocity**2*0.5))\n",
    "        dist_vecs = at.positions[i*mol_size:i*mol_size+mol_size] - at[i*mol_size:i*mol_size+mol_size].get_center_of_mass()\n",
    "        new_basis_vecs = np.dot(evecs,dist_vecs.T)        \n",
    "        rot_component = np.cross(rot_velocity,new_basis_vecs,axisa=0,axisb=0)\n",
    "        #print(rot_component)\n",
    "        at_velocities[i*mol_size:i*mol_size+mol_size] = np.dot(rot_component,evecs)+trans_velocity\n",
    "        #at_velocities[i*mol_size:i*mol_size+mol_size] = trans_velocity\n",
    "        \n",
    "    return at_velocities\n",
    "        "
   ]
  },
  {
   "cell_type": "code",
   "execution_count": 199,
   "id": "muslim-police",
   "metadata": {
    "code_folding": [
     0
    ]
   },
   "outputs": [],
   "source": [
    "# def set_image_flags(at):\n",
    "\n",
    "#     fractional_positions = at.get_scaled_positions(wrap=False)\n",
    "#     # Calculate the image flags for each atom\n",
    "#     image_flags = np.floor(fractional_positions)\n",
    "#     # Print the image flags for each atom\n",
    "#     for atom_index,image_flag in enumerate(image_flags):\n",
    "#         if image_flag.any():\n",
    "#             at.calc.lmp.command(f\"set atom {int(atom_index+1)} image {int(image_flag[0])} {int(image_flag[1])} {int(image_flag[2])}\")"
   ]
  },
  {
   "cell_type": "code",
   "execution_count": 200,
   "id": "parallel-probability",
   "metadata": {},
   "outputs": [
    {
     "name": "stdout",
     "output_type": "stream",
     "text": [
      "0.30435672497448885\n",
      "0.7472430431562788\n",
      "0.6550992660135084\n",
      "3.2933009658557246\n",
      "4.999999999999983\n"
     ]
    }
   ],
   "source": [
    "velo= gen_random_velo_mole(at,5,6)\n",
    "at.set_velocities(velo)\n",
    "print(at.get_kinetic_energy())\n"
   ]
  },
  {
   "cell_type": "code",
   "execution_count": 149,
   "id": "advisory-press",
   "metadata": {},
   "outputs": [
    {
     "ename": "SyntaxError",
     "evalue": "invalid syntax (<ipython-input-149-5a0de39b4165>, line 5)",
     "output_type": "error",
     "traceback": [
      "\u001b[0;36m  File \u001b[0;32m\"<ipython-input-149-5a0de39b4165>\"\u001b[0;36m, line \u001b[0;32m5\u001b[0m\n\u001b[0;31m    ns_run.py.\u001b[0m\n\u001b[0m              ^\u001b[0m\n\u001b[0;31mSyntaxError\u001b[0m\u001b[0;31m:\u001b[0m invalid syntax\n"
     ]
    }
   ],
   "source": [
    "random_ke = []\n",
    "my_ke = []\n",
    "\n",
    "for i in range(1000):\n",
    "    ns_run.py."
   ]
  },
  {
   "cell_type": "code",
   "execution_count": null,
   "id": "previous-diesel",
   "metadata": {},
   "outputs": [],
   "source": [
    "lmp_header=[\"units metal\",\n",
    "            \"atom_style angle\",\n",
    "            \"atom_modify map array sort 0 0\"]"
   ]
  },
  {
   "cell_type": "code",
   "execution_count": null,
   "id": "intelligent-syndrome",
   "metadata": {},
   "outputs": [],
   "source": [
    "init_cmds=[\n",
    "    \"pair_style lj/cut 14.00\",\n",
    "\"pair_coeff * * 0.00345 1.8\",\n",
    "\"pair_modify shift yes\",\n",
    " \"bond_style zero\",\n",
    " \"bond_coeff *\",\n",
    " \"angle_style zero\",\n",
    " \"angle_coeff * 120\"\n",
    "]"
   ]
  },
  {
   "cell_type": "code",
   "execution_count": null,
   "id": "nominated-hepatitis",
   "metadata": {},
   "outputs": [],
   "source": []
  },
  {
   "cell_type": "code",
   "execution_count": null,
   "id": "quiet-indiana",
   "metadata": {},
   "outputs": [],
   "source": [
    "pot = LAMMPSlib(lmpcmds=init_cmds,\n",
    "          atom_types={\"C\":1},\n",
    "          keep_alive=True,\n",
    "          lammps_name=\"serial\",\n",
    "          lammps_header=lmp_header,\n",
    "          read_molecular_info=True,\n",
    "          log_file=\"test.log2\")"
   ]
  },
  {
   "cell_type": "code",
   "execution_count": null,
   "id": "adjusted-visiting",
   "metadata": {},
   "outputs": [],
   "source": [
    "at.calc=pot\n",
    "at.calc.start_lammps()\n",
    "at.calc.parse_bonds(at)"
   ]
  },
  {
   "cell_type": "code",
   "execution_count": null,
   "id": "rubber-throw",
   "metadata": {
    "scrolled": false
   },
   "outputs": [],
   "source": [
    "# lmp.lammpsbc(True)\n",
    "\n",
    "# lmp.start_lammps()\n",
    "at.calc.initialise_lammps(at)\n",
    "\n",
    "#lmp.set_cell(at)\n",
    "# lmp.set_lammps_pos(at)\n",
    "at.calc.lmp.command(\"neigh_modify exclude molecule/intra all\")\n",
    "at.calc.lmp.command(\"comm_modify vel yes\")\n",
    "\n",
    "at.calc.lmp.command(\"timestep 0.0001\")\n",
    "\n",
    "\n",
    "at.calc.lmp.command(\"fix 1 all rigid/nve molecule reinit yes\")\n",
    "#at.calc.lmp.command(\"fix 1 all nve\")\n",
    "\n",
    "at.calc.lmp.command(\"dump myDump all atom 1 dump.lammpstrj\")\n",
    "ase.io.write(\"benzene.data\",at,format=\"lammps-data\")"
   ]
  },
  {
   "cell_type": "code",
   "execution_count": null,
   "id": "rotary-advancement",
   "metadata": {},
   "outputs": [],
   "source": [
    "#at.calc.lmp.command(\"compute image all property/atom ix iy iz\")\n",
    "#at.calc.lmp.command(\"compute mol_id all property/atom mol\")\n",
    "at.calc.lmp.command(\"info all out log\")\n"
   ]
  },
  {
   "cell_type": "code",
   "execution_count": null,
   "id": "uniform-nurse",
   "metadata": {},
   "outputs": [],
   "source": []
  },
  {
   "cell_type": "code",
   "execution_count": null,
   "id": "arbitrary-spencer",
   "metadata": {
    "scrolled": false
   },
   "outputs": [],
   "source": [
    "#l=at.calc.lmp.numpy.extract_compute(\"mol_id\",1,0)\n",
    "# at.calc.lmp.command(\"dump myDump2 all custom 1 moldump.lmp id x y z xu yu zu ix iy iz\")\n",
    "at.calc.lmp.command(\"thermo 1\")\n",
    "# at.calc.lmp.command(\"thermo_style custom step temp cella cellb cellc cellalpha cellbeta cellgamma\")\n",
    "\n"
   ]
  },
  {
   "cell_type": "code",
   "execution_count": null,
   "id": "studied-render",
   "metadata": {},
   "outputs": [],
   "source": []
  },
  {
   "cell_type": "code",
   "execution_count": null,
   "id": "retired-globe",
   "metadata": {
    "scrolled": false
   },
   "outputs": [],
   "source": [
    "\n",
    "\n",
    "at.calc.propagate(at,[\"energy\",\"forces\"],[\"positions\",\"numbers\",\"pbc\"],0)\n",
    "\n",
    "for i in range(10):\n",
    "    at.calc.propagate(at,[\"energy\",\"forces\"],[\"positions\",\"numbers\",\"pbc\"],1000)\n",
    "    #velo= gen_random_velo_mole(at,5,6)\n",
    "    at.set_velocities(velo)\n",
    "\n",
    "    #at.calc.lmp.command(\"reset_atoms image all\")\n",
    "    print(at.get_kinetic_energy(), at.get_potential_energy())\n",
    "\n",
    "    \n",
    "\n",
    "\n",
    "    "
   ]
  },
  {
   "cell_type": "code",
   "execution_count": null,
   "id": "expensive-spending",
   "metadata": {},
   "outputs": [],
   "source": [
    "traj=ase.io.read(\"dump.lammpstrj\",index=\":\")"
   ]
  },
  {
   "cell_type": "code",
   "execution_count": null,
   "id": "wooden-mistress",
   "metadata": {
    "scrolled": false
   },
   "outputs": [],
   "source": [
    "view(traj)"
   ]
  },
  {
   "cell_type": "code",
   "execution_count": null,
   "id": "varied-brother",
   "metadata": {},
   "outputs": [],
   "source": [
    "# for i in range(6):\n",
    "#     plt.plot([j.get_distance(1,i,mic=True,vector=False) for j in traj], label = i)\n",
    "#     #plt.plot([j.positions[5] for j in traj])\n",
    "# plt.legend()\n",
    "# plt.show()"
   ]
  },
  {
   "cell_type": "code",
   "execution_count": null,
   "id": "better-athletics",
   "metadata": {},
   "outputs": [],
   "source": [
    "plt.plot(range(len(velo[::6])), velo[::6])"
   ]
  },
  {
   "cell_type": "code",
   "execution_count": null,
   "id": "peripheral-combine",
   "metadata": {},
   "outputs": [],
   "source": [
    "range(len)"
   ]
  }
 ],
 "metadata": {
  "kernelspec": {
   "display_name": "Python 3",
   "language": "python",
   "name": "python3"
  },
  "language_info": {
   "codemirror_mode": {
    "name": "ipython",
    "version": 3
   },
   "file_extension": ".py",
   "mimetype": "text/x-python",
   "name": "python",
   "nbconvert_exporter": "python",
   "pygments_lexer": "ipython3",
   "version": "3.8.5"
  },
  "toc": {
   "base_numbering": 1,
   "nav_menu": {},
   "number_sections": true,
   "sideBar": true,
   "skip_h1_title": false,
   "title_cell": "Table of Contents",
   "title_sidebar": "Contents",
   "toc_cell": false,
   "toc_position": {},
   "toc_section_display": true,
   "toc_window_display": false
  }
 },
 "nbformat": 4,
 "nbformat_minor": 5
}
